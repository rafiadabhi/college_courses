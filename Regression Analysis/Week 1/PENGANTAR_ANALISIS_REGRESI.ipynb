{
  "nbformat": 4,
  "nbformat_minor": 0,
  "metadata": {
    "colab": {
      "provenance": []
    },
    "kernelspec": {
      "name": "python3",
      "display_name": "Python 3"
    },
    "language_info": {
      "name": "python"
    }
  },
  "cells": [
    {
      "cell_type": "markdown",
      "source": [
        "# **1. Pengenalan Python**"
      ],
      "metadata": {
        "id": "YuM9IP7fNvDQ"
      }
    },
    {
      "cell_type": "markdown",
      "source": [
        "Python adalah bahasa pemrograman yang digunakan secara luas untuk analisis data, statistik, dan visualisasi. Python mendukung banyak pustaka populer seperti NumPy, pandas, Matplotlib, dan scikit-learn untuk kebutuhan analisis data dan machine learning."
      ],
      "metadata": {
        "id": "1wGFf9_dOoAk"
      }
    },
    {
      "cell_type": "markdown",
      "source": [
        "# **2. Tipe Data di Python**"
      ],
      "metadata": {
        "id": "86qXkO00OudC"
      }
    },
    {
      "cell_type": "markdown",
      "source": [
        "## **a. List**\n",
        "List adalah tipe data yang paling sederhana dan dapat menyimpan elemen dengan tipe yang berbeda."
      ],
      "metadata": {
        "id": "Q3mupMOyOx9B"
      }
    },
    {
      "cell_type": "code",
      "source": [
        "# Membuat list\n",
        "angka = [1, 2, 3, 4]\n",
        "teks = [\"A\", \"B\", \"C\", \"D\"]\n",
        "logik = [True, False, True]\n",
        "\n",
        "print(angka)\n",
        "print(teks)\n",
        "print(logik)\n",
        "\n",
        "# Operasi pada list\n",
        "print(angka * 2)  # Mengulang elemen\n",
        "print(angka[1:3])  # Slicing elemen"
      ],
      "metadata": {
        "colab": {
          "base_uri": "https://localhost:8080/"
        },
        "id": "3GdW2hmsQBVM",
        "outputId": "7037a754-0261-468a-a805-2079500d6b23"
      },
      "execution_count": 2,
      "outputs": [
        {
          "output_type": "stream",
          "name": "stdout",
          "text": [
            "[1, 2, 3, 4]\n",
            "['A', 'B', 'C', 'D']\n",
            "[True, False, True]\n",
            "[1, 2, 3, 4, 1, 2, 3, 4]\n",
            "[2, 3]\n"
          ]
        }
      ]
    },
    {
      "cell_type": "markdown",
      "source": [
        "## **b. Array (NumPy)**\n",
        "Array adalah struktur data dua dimensi yang mendukung operasi matematis."
      ],
      "metadata": {
        "id": "cjR_21V1YNSi"
      }
    },
    {
      "cell_type": "code",
      "source": [
        "import numpy as np\n",
        "\n",
        "# Membuat array\n",
        "mat = np.array([[1, 2, 3], [4, 5, 6]])\n",
        "print(mat)\n",
        "\n",
        "# Operasi pada array\n",
        "print(mat.shape)  # Ukuran array\n",
        "print(mat[:, 1])  # Ambil kolom kedua"
      ],
      "metadata": {
        "colab": {
          "base_uri": "https://localhost:8080/"
        },
        "id": "-xZemAc6YSEg",
        "outputId": "fc3c4841-f088-4870-d654-21daea51623e"
      },
      "execution_count": 3,
      "outputs": [
        {
          "output_type": "stream",
          "name": "stdout",
          "text": [
            "[[1 2 3]\n",
            " [4 5 6]]\n",
            "(2, 3)\n",
            "[2 5]\n"
          ]
        }
      ]
    },
    {
      "cell_type": "markdown",
      "source": [
        "## **c. Data Frame (pandas)**\n",
        "DataFrame adalah struktur data dua dimensi dari pustaka pandas, digunakan untuk manipulasi data."
      ],
      "metadata": {
        "id": "wqEtqmMAYXsv"
      }
    },
    {
      "cell_type": "code",
      "source": [
        "import pandas as pd\n",
        "\n",
        "# Membuat DataFrame\n",
        "data = pd.DataFrame({\n",
        "    \"Nama\": [\"Andi\", \"Budi\"],\n",
        "    \"Umur\": [25, 30]\n",
        "})\n",
        "print(data)"
      ],
      "metadata": {
        "colab": {
          "base_uri": "https://localhost:8080/"
        },
        "id": "sQL0KK7OYcpF",
        "outputId": "025bdc74-d067-4669-d33a-fdd3c672d371"
      },
      "execution_count": 4,
      "outputs": [
        {
          "output_type": "stream",
          "name": "stdout",
          "text": [
            "   Nama  Umur\n",
            "0  Andi    25\n",
            "1  Budi    30\n"
          ]
        }
      ]
    },
    {
      "cell_type": "markdown",
      "source": [
        "# **3. Membaca Data ke Python**"
      ],
      "metadata": {
        "id": "4xw7JRbiZaLx"
      }
    },
    {
      "cell_type": "markdown",
      "source": [
        "## **a. Excel**"
      ],
      "metadata": {
        "id": "NUofkUfLZeKb"
      }
    },
    {
      "cell_type": "code",
      "source": [
        "# Install pustaka terlebih dahulu, gunakan openpyxl atau pandas\n",
        "# !pip install pandas openpyxl\n",
        "\n",
        "# Membaca file Excel\n",
        "data_excel = pd.read_excel(\"Data_excel_mainan.xlsx\")\n",
        "print(data_excel.head())"
      ],
      "metadata": {
        "id": "7UG3zxnWZioa"
      },
      "execution_count": null,
      "outputs": []
    },
    {
      "cell_type": "markdown",
      "source": [
        "## **b. CSV**"
      ],
      "metadata": {
        "id": "nBMUDZEyZvbk"
      }
    },
    {
      "cell_type": "code",
      "source": [
        "# Membaca file CSV\n",
        "data_csv = pd.read_csv(\"Data_csv_mainan.csv\")\n",
        "print(data_csv.head())"
      ],
      "metadata": {
        "id": "lg1pOC-sZyy3"
      },
      "execution_count": null,
      "outputs": []
    },
    {
      "cell_type": "markdown",
      "source": [
        "# **4. Manipulasi Data Frame**"
      ],
      "metadata": {
        "id": "zAU9g3_gZ29e"
      }
    },
    {
      "cell_type": "markdown",
      "source": [
        "## **a. Mengambil Kolom dari Data Frame**\n",
        "Gunakan nama kolom atau indeks."
      ],
      "metadata": {
        "id": "COXf1rtVfO2x"
      }
    },
    {
      "cell_type": "code",
      "source": [
        "# Mengambil kolom Nama\n",
        "print(data_excel[\"Nama\"])\n",
        "\n",
        "# Mengambil kolom kedua\n",
        "print(data_csv.iloc[:, 1])"
      ],
      "metadata": {
        "id": "ybTxBhw-fZcy"
      },
      "execution_count": null,
      "outputs": []
    },
    {
      "cell_type": "markdown",
      "source": [
        "## **b. Menggabungkan Kolom**\n",
        "Gunakan fungsi pd.concat() untuk menggabungkan kolom."
      ],
      "metadata": {
        "id": "9uKybQCLfch4"
      }
    },
    {
      "cell_type": "code",
      "source": [
        "# Menggabungkan dua kolom\n",
        "data_excel[\"Skor\"] = [100, 85]\n",
        "print(data_excel)"
      ],
      "metadata": {
        "id": "W4fRF0E4fgEY"
      },
      "execution_count": null,
      "outputs": []
    },
    {
      "cell_type": "markdown",
      "source": [
        "# **5. Menyimpan Data dari Python**"
      ],
      "metadata": {
        "id": "v9cIjJBufi0c"
      }
    },
    {
      "cell_type": "code",
      "source": [
        "data_excel.to_excel(\"data.xlsx\", index=False) # excel\n",
        "data_excel.to_csv(\"data.csv\", index=False) # csv"
      ],
      "metadata": {
        "id": "WH83mfx9foPl"
      },
      "execution_count": null,
      "outputs": []
    },
    {
      "cell_type": "markdown",
      "source": [
        "# **6. Pustaka untuk Analisis Regresi**\n",
        "Beberapa pustaka populer:\n",
        "*   statsmodels: Untuk analisis regresi linear dan model statistik lainnya\n",
        "*   scikit-learn: Untuk machine learning, termasuk regresi.\n",
        "*   seaborn: Untuk visualisasi statistik."
      ],
      "metadata": {
        "id": "1i0i3xZYf3fC"
      }
    },
    {
      "cell_type": "markdown",
      "source": [
        "# **7. Menghitung Korelasi**"
      ],
      "metadata": {
        "id": "VDnpDLU_gNAO"
      }
    },
    {
      "cell_type": "code",
      "source": [
        "harga = [245, 312, 279, 308, 199, 219, 405, 324, 319, 255]\n",
        "luas = [1400, 1600, 1700, 1875, 1100, 1550, 2350, 2450, 1425, 1700]\n",
        "data_rumah = pd.DataFrame({\"harga\": harga, \"luas\": luas})\n",
        "\n",
        "# Menghitung korelasi\n",
        "print(data_rumah.corr())\n",
        "\n",
        "# Visualisasi korelasi\n",
        "import seaborn as sns\n",
        "import matplotlib.pyplot as plt\n",
        "\n",
        "sns.heatmap(data_rumah.corr(), annot=True, cmap=\"coolwarm\")\n",
        "plt.show()"
      ],
      "metadata": {
        "colab": {
          "base_uri": "https://localhost:8080/",
          "height": 487
        },
        "id": "PSpwgZRTgR2S",
        "outputId": "3cd3f4ba-1ee6-4574-c9b2-ff93c91758e9"
      },
      "execution_count": 5,
      "outputs": [
        {
          "output_type": "stream",
          "name": "stdout",
          "text": [
            "          harga      luas\n",
            "harga  1.000000  0.762114\n",
            "luas   0.762114  1.000000\n"
          ]
        },
        {
          "output_type": "display_data",
          "data": {
            "text/plain": [
              "<Figure size 640x480 with 2 Axes>"
            ],
            "image/png": "[encoded data removed]"
          },
          "metadata": {}
        }
      ]
    },
    {
      "cell_type": "markdown",
      "source": [
        "# **8. Membuat Scatter Plot**"
      ],
      "metadata": {
        "id": "02x_Sa9IgWoO"
      }
    },
    {
      "cell_type": "code",
      "source": [
        "plt.scatter(data_rumah[\"luas\"], data_rumah[\"harga\"])\n",
        "plt.title(\"Scatter Plot Harga vs Luas Lantai\")\n",
        "plt.xlabel(\"Luas Lantai (m^2)\")\n",
        "plt.ylabel(\"Harga Rumah (Rp.Juta)\")\n",
        "plt.show()"
      ],
      "metadata": {
        "colab": {
          "base_uri": "https://localhost:8080/",
          "height": 472
        },
        "id": "EGPPHqhQgeDB",
        "outputId": "aa2b4861-bf01-4a63-8c37-e0704e2ed0e3"
      },
      "execution_count": 6,
      "outputs": [
        {
          "output_type": "display_data",
          "data": {
            "text/plain": [
              "<Figure size 640x480 with 1 Axes>"
            ],
            "image/png": "[encoded data removed]"
          },
          "metadata": {}
        }
      ]
    },
    {
      "cell_type": "markdown",
      "source": [
        "Gunakan statsmodels untuk regresi linier"
      ],
      "metadata": {
        "id": "tytryjgggjVa"
      }
    },
    {
      "cell_type": "code",
      "source": [
        "import statsmodels.api as sm\n",
        "\n",
        "# Model regresi\n",
        "X = sm.add_constant(data_rumah[\"luas\"])\n",
        "y = data_rumah[\"harga\"]\n",
        "model = sm.OLS(y, X).fit()\n",
        "\n",
        "# Plot scatter plot dengan garis regresi\n",
        "plt.scatter(data_rumah[\"luas\"], data_rumah[\"harga\"], label=\"Data\")\n",
        "plt.plot(data_rumah[\"luas\"], model.predict(X), color=\"red\", label=\"Garis Regresi\")\n",
        "plt.title(\"Scatter Plot dengan Garis Regresi\")\n",
        "plt.xlabel(\"Luas Rumah\")\n",
        "plt.ylabel(\"Harga Rumah\")\n",
        "plt.legend()\n",
        "plt.show()"
      ],
      "metadata": {
        "colab": {
          "base_uri": "https://localhost:8080/",
          "height": 472
        },
        "id": "qJFsb94_ggJS",
        "outputId": "00ae73d3-e3e5-4b50-f480-7fe3f2b7b59f"
      },
      "execution_count": 10,
      "outputs": [
        {
          "output_type": "display_data",
          "data": {
            "text/plain": [
              "<Figure size 640x480 with 1 Axes>"
            ],
            "image/png": "[encoded data removed]"
          },
          "metadata": {}
        }
      ]
    }
  ]
}