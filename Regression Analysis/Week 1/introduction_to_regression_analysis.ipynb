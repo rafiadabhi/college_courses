{
 "cells": [
  {
   "cell_type": "markdown",
   "id": "565b2fa1",
   "metadata": {},
   "source": [
    "\n",
    "# **1. Introduction to Python**\n",
    "Python is a widely used programming language for data analysis, statistics, and visualization. \n",
    "Python supports many popular libraries such as NumPy, pandas, Matplotlib, and scikit-learn for data analysis and machine learning needs.\n"
   ]
  },
  {
   "cell_type": "markdown",
   "id": "b11c321b",
   "metadata": {},
   "source": [
    "\n",
    "# **2. Data Types in Python**\n",
    "## **a. List**\n",
    "A list is the simplest data type and can store elements of different types.\n"
   ]
  },
  {
   "cell_type": "code",
   "execution_count": 1,
   "id": "2db81abc",
   "metadata": {},
   "outputs": [
    {
     "name": "stdout",
     "output_type": "stream",
     "text": [
      "[1, 2, 3, 4]\n",
      "['A', 'B', 'C', 'D']\n",
      "[True, False, True]\n",
      "[1, 2, 3, 4, 1, 2, 3, 4]\n",
      "[2, 3]\n"
     ]
    }
   ],
   "source": [
    "\n",
    "# Creating a list\n",
    "numbers = [1, 2, 3, 4]\n",
    "text = [\"A\", \"B\", \"C\", \"D\"]\n",
    "logic = [True, False, True]\n",
    "\n",
    "print(numbers)\n",
    "print(text)\n",
    "print(logic)\n",
    "\n",
    "# Operations on lists\n",
    "print(numbers * 2)  # Repeat elements\n",
    "print(numbers[1:3])  # Slice elements\n"
   ]
  },
  {
   "cell_type": "markdown",
   "id": "e2262bf4",
   "metadata": {},
   "source": [
    "\n",
    "## **b. Array (NumPy)**\n",
    "An array is a two-dimensional data structure that supports mathematical operations.\n"
   ]
  },
  {
   "cell_type": "code",
   "execution_count": 2,
   "id": "fd85c6de",
   "metadata": {},
   "outputs": [
    {
     "name": "stdout",
     "output_type": "stream",
     "text": [
      "[[1 2 3]\n",
      " [4 5 6]]\n",
      "(2, 3)\n",
      "[2 5]\n"
     ]
    }
   ],
   "source": [
    "\n",
    "import numpy as np\n",
    "\n",
    "# Creating an array\n",
    "mat = np.array([[1, 2, 3], [4, 5, 6]])\n",
    "print(mat)\n",
    "\n",
    "# Operations on arrays\n",
    "print(mat.shape)  # Size of array\n",
    "print(mat[:, 1])  # Get second column\n"
   ]
  },
  {
   "cell_type": "markdown",
   "id": "5ed6bf00",
   "metadata": {},
   "source": [
    "\n",
    "## **c. Data Frame (pandas)**\n",
    "A DataFrame is a two-dimensional data structure from the pandas library, used for data manipulation.\n"
   ]
  },
  {
   "cell_type": "code",
   "execution_count": 3,
   "id": "8a21c88d",
   "metadata": {},
   "outputs": [
    {
     "name": "stdout",
     "output_type": "stream",
     "text": [
      "   Name  Age\n",
      "0  Andi   25\n",
      "1  Budi   30\n"
     ]
    }
   ],
   "source": [
    "\n",
    "import pandas as pd\n",
    "\n",
    "# Creating a DataFrame\n",
    "data = pd.DataFrame({\n",
    "    \"Name\": [\"Andi\", \"Budi\"],\n",
    "    \"Age\": [25, 30]\n",
    "})\n",
    "print(data)\n"
   ]
  },
  {
   "cell_type": "markdown",
   "id": "9947a867",
   "metadata": {},
   "source": [
    "\n",
    "# **3. Reading Data into Python**\n",
    "## **a. Excel**\n",
    "Install the library first, using openpyxl or pandas.\n"
   ]
  },
  {
   "cell_type": "code",
   "execution_count": 4,
   "id": "1fc47f4b",
   "metadata": {},
   "outputs": [
    {
     "ename": "FileNotFoundError",
     "evalue": "[Errno 2] No such file or directory: 'Data_excel_mainan.xlsx'",
     "output_type": "error",
     "traceback": [
      "\u001b[1;31m---------------------------------------------------------------------------\u001b[0m",
      "\u001b[1;31mFileNotFoundError\u001b[0m                         Traceback (most recent call last)",
      "Cell \u001b[1;32mIn[4], line 4\u001b[0m\n\u001b[0;32m      1\u001b[0m \u001b[38;5;66;03m# !pip install pandas openpyxl\u001b[39;00m\n\u001b[0;32m      2\u001b[0m \n\u001b[0;32m      3\u001b[0m \u001b[38;5;66;03m# Reading an Excel file\u001b[39;00m\n\u001b[1;32m----> 4\u001b[0m data_excel \u001b[38;5;241m=\u001b[39m \u001b[43mpd\u001b[49m\u001b[38;5;241;43m.\u001b[39;49m\u001b[43mread_excel\u001b[49m\u001b[43m(\u001b[49m\u001b[38;5;124;43m\"\u001b[39;49m\u001b[38;5;124;43mData_excel_mainan.xlsx\u001b[39;49m\u001b[38;5;124;43m\"\u001b[39;49m\u001b[43m)\u001b[49m\n\u001b[0;32m      5\u001b[0m \u001b[38;5;28mprint\u001b[39m(data_excel\u001b[38;5;241m.\u001b[39mhead())\n",
      "File \u001b[1;32m~\\AppData\\Roaming\\Python\\Python312\\site-packages\\pandas\\io\\excel\\_base.py:495\u001b[0m, in \u001b[0;36mread_excel\u001b[1;34m(io, sheet_name, header, names, index_col, usecols, dtype, engine, converters, true_values, false_values, skiprows, nrows, na_values, keep_default_na, na_filter, verbose, parse_dates, date_parser, date_format, thousands, decimal, comment, skipfooter, storage_options, dtype_backend, engine_kwargs)\u001b[0m\n\u001b[0;32m    493\u001b[0m \u001b[38;5;28;01mif\u001b[39;00m \u001b[38;5;129;01mnot\u001b[39;00m \u001b[38;5;28misinstance\u001b[39m(io, ExcelFile):\n\u001b[0;32m    494\u001b[0m     should_close \u001b[38;5;241m=\u001b[39m \u001b[38;5;28;01mTrue\u001b[39;00m\n\u001b[1;32m--> 495\u001b[0m     io \u001b[38;5;241m=\u001b[39m \u001b[43mExcelFile\u001b[49m\u001b[43m(\u001b[49m\n\u001b[0;32m    496\u001b[0m \u001b[43m        \u001b[49m\u001b[43mio\u001b[49m\u001b[43m,\u001b[49m\n\u001b[0;32m    497\u001b[0m \u001b[43m        \u001b[49m\u001b[43mstorage_options\u001b[49m\u001b[38;5;241;43m=\u001b[39;49m\u001b[43mstorage_options\u001b[49m\u001b[43m,\u001b[49m\n\u001b[0;32m    498\u001b[0m \u001b[43m        \u001b[49m\u001b[43mengine\u001b[49m\u001b[38;5;241;43m=\u001b[39;49m\u001b[43mengine\u001b[49m\u001b[43m,\u001b[49m\n\u001b[0;32m    499\u001b[0m \u001b[43m        \u001b[49m\u001b[43mengine_kwargs\u001b[49m\u001b[38;5;241;43m=\u001b[39;49m\u001b[43mengine_kwargs\u001b[49m\u001b[43m,\u001b[49m\n\u001b[0;32m    500\u001b[0m \u001b[43m    \u001b[49m\u001b[43m)\u001b[49m\n\u001b[0;32m    501\u001b[0m \u001b[38;5;28;01melif\u001b[39;00m engine \u001b[38;5;129;01mand\u001b[39;00m engine \u001b[38;5;241m!=\u001b[39m io\u001b[38;5;241m.\u001b[39mengine:\n\u001b[0;32m    502\u001b[0m     \u001b[38;5;28;01mraise\u001b[39;00m \u001b[38;5;167;01mValueError\u001b[39;00m(\n\u001b[0;32m    503\u001b[0m         \u001b[38;5;124m\"\u001b[39m\u001b[38;5;124mEngine should not be specified when passing \u001b[39m\u001b[38;5;124m\"\u001b[39m\n\u001b[0;32m    504\u001b[0m         \u001b[38;5;124m\"\u001b[39m\u001b[38;5;124man ExcelFile - ExcelFile already has the engine set\u001b[39m\u001b[38;5;124m\"\u001b[39m\n\u001b[0;32m    505\u001b[0m     )\n",
      "File \u001b[1;32m~\\AppData\\Roaming\\Python\\Python312\\site-packages\\pandas\\io\\excel\\_base.py:1550\u001b[0m, in \u001b[0;36mExcelFile.__init__\u001b[1;34m(self, path_or_buffer, engine, storage_options, engine_kwargs)\u001b[0m\n\u001b[0;32m   1548\u001b[0m     ext \u001b[38;5;241m=\u001b[39m \u001b[38;5;124m\"\u001b[39m\u001b[38;5;124mxls\u001b[39m\u001b[38;5;124m\"\u001b[39m\n\u001b[0;32m   1549\u001b[0m \u001b[38;5;28;01melse\u001b[39;00m:\n\u001b[1;32m-> 1550\u001b[0m     ext \u001b[38;5;241m=\u001b[39m \u001b[43minspect_excel_format\u001b[49m\u001b[43m(\u001b[49m\n\u001b[0;32m   1551\u001b[0m \u001b[43m        \u001b[49m\u001b[43mcontent_or_path\u001b[49m\u001b[38;5;241;43m=\u001b[39;49m\u001b[43mpath_or_buffer\u001b[49m\u001b[43m,\u001b[49m\u001b[43m \u001b[49m\u001b[43mstorage_options\u001b[49m\u001b[38;5;241;43m=\u001b[39;49m\u001b[43mstorage_options\u001b[49m\n\u001b[0;32m   1552\u001b[0m \u001b[43m    \u001b[49m\u001b[43m)\u001b[49m\n\u001b[0;32m   1553\u001b[0m     \u001b[38;5;28;01mif\u001b[39;00m ext \u001b[38;5;129;01mis\u001b[39;00m \u001b[38;5;28;01mNone\u001b[39;00m:\n\u001b[0;32m   1554\u001b[0m         \u001b[38;5;28;01mraise\u001b[39;00m \u001b[38;5;167;01mValueError\u001b[39;00m(\n\u001b[0;32m   1555\u001b[0m             \u001b[38;5;124m\"\u001b[39m\u001b[38;5;124mExcel file format cannot be determined, you must specify \u001b[39m\u001b[38;5;124m\"\u001b[39m\n\u001b[0;32m   1556\u001b[0m             \u001b[38;5;124m\"\u001b[39m\u001b[38;5;124man engine manually.\u001b[39m\u001b[38;5;124m\"\u001b[39m\n\u001b[0;32m   1557\u001b[0m         )\n",
      "File \u001b[1;32m~\\AppData\\Roaming\\Python\\Python312\\site-packages\\pandas\\io\\excel\\_base.py:1402\u001b[0m, in \u001b[0;36minspect_excel_format\u001b[1;34m(content_or_path, storage_options)\u001b[0m\n\u001b[0;32m   1399\u001b[0m \u001b[38;5;28;01mif\u001b[39;00m \u001b[38;5;28misinstance\u001b[39m(content_or_path, \u001b[38;5;28mbytes\u001b[39m):\n\u001b[0;32m   1400\u001b[0m     content_or_path \u001b[38;5;241m=\u001b[39m BytesIO(content_or_path)\n\u001b[1;32m-> 1402\u001b[0m \u001b[38;5;28;01mwith\u001b[39;00m \u001b[43mget_handle\u001b[49m\u001b[43m(\u001b[49m\n\u001b[0;32m   1403\u001b[0m \u001b[43m    \u001b[49m\u001b[43mcontent_or_path\u001b[49m\u001b[43m,\u001b[49m\u001b[43m \u001b[49m\u001b[38;5;124;43m\"\u001b[39;49m\u001b[38;5;124;43mrb\u001b[39;49m\u001b[38;5;124;43m\"\u001b[39;49m\u001b[43m,\u001b[49m\u001b[43m \u001b[49m\u001b[43mstorage_options\u001b[49m\u001b[38;5;241;43m=\u001b[39;49m\u001b[43mstorage_options\u001b[49m\u001b[43m,\u001b[49m\u001b[43m \u001b[49m\u001b[43mis_text\u001b[49m\u001b[38;5;241;43m=\u001b[39;49m\u001b[38;5;28;43;01mFalse\u001b[39;49;00m\n\u001b[0;32m   1404\u001b[0m \u001b[43m\u001b[49m\u001b[43m)\u001b[49m \u001b[38;5;28;01mas\u001b[39;00m handle:\n\u001b[0;32m   1405\u001b[0m     stream \u001b[38;5;241m=\u001b[39m handle\u001b[38;5;241m.\u001b[39mhandle\n\u001b[0;32m   1406\u001b[0m     stream\u001b[38;5;241m.\u001b[39mseek(\u001b[38;5;241m0\u001b[39m)\n",
      "File \u001b[1;32m~\\AppData\\Roaming\\Python\\Python312\\site-packages\\pandas\\io\\common.py:882\u001b[0m, in \u001b[0;36mget_handle\u001b[1;34m(path_or_buf, mode, encoding, compression, memory_map, is_text, errors, storage_options)\u001b[0m\n\u001b[0;32m    873\u001b[0m         handle \u001b[38;5;241m=\u001b[39m \u001b[38;5;28mopen\u001b[39m(\n\u001b[0;32m    874\u001b[0m             handle,\n\u001b[0;32m    875\u001b[0m             ioargs\u001b[38;5;241m.\u001b[39mmode,\n\u001b[1;32m   (...)\u001b[0m\n\u001b[0;32m    878\u001b[0m             newline\u001b[38;5;241m=\u001b[39m\u001b[38;5;124m\"\u001b[39m\u001b[38;5;124m\"\u001b[39m,\n\u001b[0;32m    879\u001b[0m         )\n\u001b[0;32m    880\u001b[0m     \u001b[38;5;28;01melse\u001b[39;00m:\n\u001b[0;32m    881\u001b[0m         \u001b[38;5;66;03m# Binary mode\u001b[39;00m\n\u001b[1;32m--> 882\u001b[0m         handle \u001b[38;5;241m=\u001b[39m \u001b[38;5;28;43mopen\u001b[39;49m\u001b[43m(\u001b[49m\u001b[43mhandle\u001b[49m\u001b[43m,\u001b[49m\u001b[43m \u001b[49m\u001b[43mioargs\u001b[49m\u001b[38;5;241;43m.\u001b[39;49m\u001b[43mmode\u001b[49m\u001b[43m)\u001b[49m\n\u001b[0;32m    883\u001b[0m     handles\u001b[38;5;241m.\u001b[39mappend(handle)\n\u001b[0;32m    885\u001b[0m \u001b[38;5;66;03m# Convert BytesIO or file objects passed with an encoding\u001b[39;00m\n",
      "\u001b[1;31mFileNotFoundError\u001b[0m: [Errno 2] No such file or directory: 'Data_excel_mainan.xlsx'"
     ]
    }
   ],
   "source": [
    "\n",
    "# !pip install pandas openpyxl\n",
    "\n",
    "# Reading an Excel file\n",
    "data_excel = pd.read_excel(\"Data_excel_mainan.xlsx\")\n",
    "print(data_excel.head())\n"
   ]
  },
  {
   "cell_type": "markdown",
   "id": "5655a444",
   "metadata": {},
   "source": [
    "\n",
    "## **b. CSV**\n"
   ]
  },
  {
   "cell_type": "code",
   "execution_count": null,
   "id": "8a329b4b",
   "metadata": {},
   "outputs": [],
   "source": [
    "\n",
    "# Reading a CSV file\n",
    "data_csv = pd.read_csv(\"Data_csv_mainan.csv\")\n",
    "print(data_csv.head())\n"
   ]
  },
  {
   "cell_type": "markdown",
   "id": "25083942",
   "metadata": {},
   "source": [
    "\n",
    "# **4. DataFrame Manipulation**\n",
    "## **a. Selecting Columns from a DataFrame**\n",
    "Use the column name or index.\n"
   ]
  },
  {
   "cell_type": "code",
   "execution_count": null,
   "id": "410f0109",
   "metadata": {},
   "outputs": [],
   "source": [
    "\n",
    "# Selecting the \"Name\" column\n",
    "print(data_excel[\"Name\"])\n",
    "\n",
    "# Selecting the second column\n",
    "print(data_csv.iloc[:, 1])\n"
   ]
  },
  {
   "cell_type": "markdown",
   "id": "23984e5b",
   "metadata": {},
   "source": [
    "\n",
    "## **b. Merging Columns**\n",
    "Use the `pd.concat()` function to merge columns.\n"
   ]
  },
  {
   "cell_type": "code",
   "execution_count": null,
   "id": "343cdae8",
   "metadata": {},
   "outputs": [],
   "source": [
    "\n",
    "# Adding a new column\n",
    "data_excel[\"Score\"] = [100, 85]\n",
    "print(data_excel)\n"
   ]
  },
  {
   "cell_type": "markdown",
   "id": "7d6d0966",
   "metadata": {},
   "source": [
    "\n",
    "# **5. Saving Data from Python**\n"
   ]
  },
  {
   "cell_type": "code",
   "execution_count": null,
   "id": "3c007200",
   "metadata": {},
   "outputs": [],
   "source": [
    "\n",
    "data_excel.to_excel(\"data.xlsx\", index=False)  # Excel\n",
    "data_excel.to_csv(\"data.csv\", index=False)  # CSV\n"
   ]
  },
  {
   "cell_type": "markdown",
   "id": "6e512ab6",
   "metadata": {},
   "source": [
    "\n",
    "# **6. Libraries for Regression Analysis**\n",
    "Some popular libraries:\n",
    "* statsmodels: For linear regression analysis and other statistical models\n",
    "* scikit-learn: For machine learning, including regression\n",
    "* seaborn: For statistical visualization\n"
   ]
  },
  {
   "cell_type": "markdown",
   "id": "ba0c5ccf",
   "metadata": {},
   "source": [
    "\n",
    "# **7. Calculating Correlation**\n"
   ]
  },
  {
   "cell_type": "code",
   "execution_count": null,
   "id": "94a5f728",
   "metadata": {},
   "outputs": [],
   "source": [
    "\n",
    "price = [245, 312, 279, 308, 199, 219, 405, 324, 319, 255]\n",
    "area = [1400, 1600, 1700, 1875, 1100, 1550, 2350, 2450, 1425, 1700]\n",
    "house_data = pd.DataFrame({\"price\": price, \"area\": area})\n",
    "\n",
    "# Calculating correlation\n",
    "print(house_data.corr())\n",
    "\n",
    "# Visualizing correlation\n",
    "import seaborn as sns\n",
    "import matplotlib.pyplot as plt\n",
    "\n",
    "sns.heatmap(house_data.corr(), annot=True, cmap=\"coolwarm\")\n",
    "plt.show()\n"
   ]
  },
  {
   "cell_type": "markdown",
   "id": "bcec50b7",
   "metadata": {},
   "source": [
    "\n",
    "# **8. Creating a Scatter Plot**\n"
   ]
  },
  {
   "cell_type": "code",
   "execution_count": null,
   "id": "0749e251",
   "metadata": {},
   "outputs": [],
   "source": [
    "\n",
    "plt.scatter(house_data[\"area\"], house_data[\"price\"])\n",
    "plt.title(\"Scatter Plot Price vs Floor Area\")\n",
    "plt.xlabel(\"Floor Area (m^2)\")\n",
    "plt.ylabel(\"House Price (Million Rp)\")\n",
    "plt.show()\n",
    "\n",
    "# Using statsmodels for linear regression\n",
    "import statsmodels.api as sm\n",
    "\n",
    "# Regression model\n",
    "X = sm.add_constant(house_data[\"area\"])\n",
    "y = house_data[\"price\"]\n",
    "model = sm.OLS(y, X).fit()\n",
    "\n",
    "# Plot scatter plot with regression line\n",
    "plt.scatter(house_data[\"area\"], house_data[\"price\"], label=\"Data\")\n",
    "plt.plot(house_data[\"area\"], model.predict(X), color=\"red\", label=\"Regression Line\")\n",
    "plt.title(\"Scatter Plot with Regression Line\")\n",
    "plt.xlabel(\"House Area\")\n",
    "plt.ylabel(\"House Price\")\n",
    "plt.legend()\n",
    "plt.show()\n"
   ]
  }
 ],
 "metadata": {
  "kernelspec": {
   "display_name": "Python 3",
   "language": "python",
   "name": "python3"
  },
  "language_info": {
   "codemirror_mode": {
    "name": "ipython",
    "version": 3
   },
   "file_extension": ".py",
   "mimetype": "text/x-python",
   "name": "python",
   "nbconvert_exporter": "python",
   "pygments_lexer": "ipython3",
   "version": "3.12.4"
  }
 },
 "nbformat": 4,
 "nbformat_minor": 5
}
