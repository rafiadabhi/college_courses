{
 "cells": [
  {
   "cell_type": "markdown",
   "metadata": {},
   "source": [
    "Kali ini kita hanya akan menggunakan lima peubah dari dataset `state.x77` dengan peubah Life Exp sebagai peubah respons dan sisanya sebagai peubah penjelas."
   ]
  },
  {
   "cell_type": "code",
   "execution_count": 1,
   "metadata": {},
   "outputs": [
    {
     "name": "stdout",
     "output_type": "stream",
     "text": [
      "                Illiteracy  Life Exp  Murder  HS Grad  Frost\n",
      "rownames                                                    \n",
      "Alabama                2.1     69.05    15.1     41.3     20\n",
      "Alaska                 1.5     69.31    11.3     66.7    152\n",
      "Arizona                1.8     70.55     7.8     58.1     15\n",
      "Arkansas               1.9     70.66    10.1     39.9     65\n",
      "California             1.1     71.71    10.3     62.6     20\n",
      "Colorado               0.7     72.06     6.8     63.9    166\n",
      "Connecticut            1.1     72.48     3.1     56.0    139\n",
      "Delaware               0.9     70.06     6.2     54.6    103\n",
      "Florida                1.3     70.66    10.7     52.6     11\n",
      "Georgia                2.0     68.54    13.9     40.6     60\n",
      "Hawaii                 1.9     73.60     6.2     61.9      0\n",
      "Idaho                  0.6     71.87     5.3     59.5    126\n",
      "Illinois               0.9     70.14    10.3     52.6    127\n",
      "Indiana                0.7     70.88     7.1     52.9    122\n",
      "Iowa                   0.5     72.56     2.3     59.0    140\n",
      "Kansas                 0.6     72.58     4.5     59.9    114\n",
      "Kentucky               1.6     70.10    10.6     38.5     95\n",
      "Louisiana              2.8     68.76    13.2     42.2     12\n",
      "Maine                  0.7     70.39     2.7     54.7    161\n",
      "Maryland               0.9     70.22     8.5     52.3    101\n",
      "Massachusetts          1.1     71.83     3.3     58.5    103\n",
      "Michigan               0.9     70.63    11.1     52.8    125\n",
      "Minnesota              0.6     72.96     2.3     57.6    160\n",
      "Mississippi            2.4     68.09    12.5     41.0     50\n",
      "Missouri               0.8     70.69     9.3     48.8    108\n",
      "Montana                0.6     70.56     5.0     59.2    155\n",
      "Nebraska               0.6     72.60     2.9     59.3    139\n",
      "Nevada                 0.5     69.03    11.5     65.2    188\n",
      "New Hampshire          0.7     71.23     3.3     57.6    174\n",
      "New Jersey             1.1     70.93     5.2     52.5    115\n",
      "New Mexico             2.2     70.32     9.7     55.2    120\n",
      "New York               1.4     70.55    10.9     52.7     82\n",
      "North Carolina         1.8     69.21    11.1     38.5     80\n",
      "North Dakota           0.8     72.78     1.4     50.3    186\n",
      "Ohio                   0.8     70.82     7.4     53.2    124\n",
      "Oklahoma               1.1     71.42     6.4     51.6     82\n",
      "Oregon                 0.6     72.13     4.2     60.0     44\n",
      "Pennsylvania           1.0     70.43     6.1     50.2    126\n",
      "Rhode Island           1.3     71.90     2.4     46.4    127\n",
      "South Carolina         2.3     67.96    11.6     37.8     65\n",
      "South Dakota           0.5     72.08     1.7     53.3    172\n",
      "Tennessee              1.7     70.11    11.0     41.8     70\n",
      "Texas                  2.2     70.90    12.2     47.4     35\n",
      "Utah                   0.6     72.90     4.5     67.3    137\n",
      "Vermont                0.6     71.64     5.5     57.1    168\n",
      "Virginia               1.4     70.08     9.5     47.8     85\n",
      "Washington             0.6     71.72     4.3     63.5     32\n",
      "West Virginia          1.4     69.48     6.7     41.6    100\n",
      "Wisconsin              0.7     72.48     3.0     54.5    149\n",
      "Wyoming                0.6     70.29     6.9     62.9    173\n"
     ]
    }
   ],
   "source": [
    "import pandas as pd\n",
    "\n",
    "# URL untuk mengunduh dataset state.x77\n",
    "url = \"https://vincentarelbundock.github.io/Rdatasets/csv/datasets/state.x77.csv\"\n",
    "\n",
    "data = pd.read_csv(url, index_col=0)\n",
    "data = data.drop(data.columns[[0, 1, 7]], axis=1)\n",
    "n = data.shape[0]\n",
    "\n",
    "print(data)"
   ]
  },
  {
   "cell_type": "markdown",
   "metadata": {},
   "source": [
    "# Pemodelan Regresi Linear Berganda"
   ]
  },
  {
   "cell_type": "code",
   "execution_count": 2,
   "metadata": {},
   "outputs": [
    {
     "name": "stdout",
     "output_type": "stream",
     "text": [
      "                            OLS Regression Results                            \n",
      "==============================================================================\n",
      "Dep. Variable:               Life Exp   R-squared:                       0.715\n",
      "Model:                            OLS   Adj. R-squared:                  0.689\n",
      "Method:                 Least Squares   F-statistic:                     28.17\n",
      "Date:                Tue, 25 Feb 2025   Prob (F-statistic):           9.55e-12\n",
      "Time:                        08:03:10   Log-Likelihood:                -53.817\n",
      "No. Observations:                  50   AIC:                             117.6\n",
      "Df Residuals:                      45   BIC:                             127.2\n",
      "Df Model:                           4                                         \n",
      "Covariance Type:            nonrobust                                         \n",
      "==============================================================================\n",
      "                 coef    std err          t      P>|t|      [0.025      0.975]\n",
      "------------------------------------------------------------------------------\n",
      "const         71.5200      1.320     54.162      0.000      68.860      74.180\n",
      "Illiteracy    -0.1816      0.328     -0.554      0.582      -0.842       0.479\n",
      "Murder        -0.2731      0.041     -6.639      0.000      -0.356      -0.190\n",
      "HS Grad        0.0450      0.018      2.532      0.015       0.009       0.081\n",
      "Frost         -0.0077      0.003     -2.715      0.009      -0.013      -0.002\n",
      "==============================================================================\n",
      "Omnibus:                        3.725   Durbin-Watson:                   1.780\n",
      "Prob(Omnibus):                  0.155   Jarque-Bera (JB):                2.054\n",
      "Skew:                          -0.231   Prob(JB):                        0.358\n",
      "Kurtosis:                       2.121   Cond. No.                     1.60e+03\n",
      "==============================================================================\n",
      "\n",
      "Notes:\n",
      "[1] Standard Errors assume that the covariance matrix of the errors is correctly specified.\n",
      "[2] The condition number is large, 1.6e+03. This might indicate that there are\n",
      "strong multicollinearity or other numerical problems.\n"
     ]
    }
   ],
   "source": [
    "import statsmodels.api as sm\n",
    "\n",
    "# Menentukan variabel dependen dan independen\n",
    "X = data[['Illiteracy', 'Murder', 'HS Grad', 'Frost']]\n",
    "y = data['Life Exp']\n",
    "\n",
    "X = sm.add_constant(X)\n",
    "model_le = sm.OLS(y, X).fit()\n",
    "summary_model = model_le.summary()\n",
    "\n",
    "print(summary_model)"
   ]
  },
  {
   "cell_type": "markdown",
   "metadata": {},
   "source": [
    "Berdasarkan perhitungan, didapat dugaan persamaan regresi linear berganda sebagai berikut. Selain itu, diamati juga bahwa hanya dugaan parameter untuk peubah **Illiteracy** $(\\beta_1)$ yang tidak berpengaruh signifikan terhadap peubah respons **Life Exp** dalam taraf nyata $5\\%$.\n",
    "\n",
    "$$\n",
    "\\hat{Y}=71,52-0,18X_1-0,27X_2+0,04X_3-0,01X_4\n",
    "$$\n",
    "\n",
    "Sebagaimana yang sudah kita pelajari, untuk mencari nilai dugaan ragam atas dugaan persamaan, kita dapat menghitung nilai Kuadrat Tengah Sisaan melalui tabel ANOVA sebagai berikut."
   ]
  },
  {
   "cell_type": "code",
   "execution_count": 3,
   "metadata": {},
   "outputs": [
    {
     "name": "stdout",
     "output_type": "stream",
     "text": [
      "ANOVA Model:\n",
      "             df     sum_sq    mean_sq          F        PR(>F)\n",
      "X          5.0  63.225165  12.645033  22.580605  2.922576e-11\n",
      "Residual  45.0  25.199789   0.559995        NaN           NaN\n"
     ]
    }
   ],
   "source": [
    "from statsmodels.formula.api import ols\n",
    "model_le = ols('y ~ X', data=data).fit()\n",
    "\n",
    "anova_model = sm.stats.anova_lm(model_le)\n",
    "print(\"ANOVA Model:\\n\", anova_model)"
   ]
  },
  {
   "cell_type": "code",
   "execution_count": 4,
   "metadata": {},
   "outputs": [
    {
     "name": "stdout",
     "output_type": "stream",
     "text": [
      "Nilai KTG: 0.56\n"
     ]
    }
   ],
   "source": [
    "KTG = round(anova_model['mean_sq'].iloc[1], 2)\n",
    "print(\"Nilai KTG:\", KTG)"
   ]
  },
  {
   "cell_type": "markdown",
   "metadata": {},
   "source": [
    "Dari tabel ANOVA di atas, dapat diduga ragam dugaan persamaan melalui nilai **Mean Square Residuals**, yaitu senilai $0,56$. Hubungan antara keduanya dapat dituliskan sebagai berikut.\n",
    "\n",
    "$$\n",
    "\\hat\\sigma^2=KTG=0,56\n",
    "$$"
   ]
  },
  {
   "cell_type": "markdown",
   "metadata": {},
   "source": [
    "# Uji Hipotesis Parameter Regresi"
   ]
  },
  {
   "cell_type": "code",
   "execution_count": 5,
   "metadata": {},
   "outputs": [
    {
     "data": {
      "image/png": "[encoded data removed]",
      "text/plain": [
       "<IPython.core.display.Image object>"
      ]
     },
     "metadata": {},
     "output_type": "display_data"
    }
   ],
   "source": [
    "from IPython.display import Image, display\n",
    "display(Image(\"C:/Users/faeri/OneDrive/Pictures/Screenshot/Screenshot 2025-02-24 233104.png\"))"
   ]
  },
  {
   "cell_type": "code",
   "execution_count": 6,
   "metadata": {},
   "outputs": [
    {
     "name": "stdout",
     "output_type": "stream",
     "text": [
      "  Sumber_Variasi         SS  df         MS          F\n",
      "0          Model  63.099213   4  15.774803  28.169527\n",
      "1       Residual  25.199789  45   0.559995        NaN\n",
      "2          Total  88.299002  49        NaN        NaN\n"
     ]
    }
   ],
   "source": [
    "model_le = sm.OLS(y, X).fit()\n",
    "\n",
    "# Rata-rata total\n",
    "Y_bar = y.mean()\n",
    "\n",
    "# Total Sum of Squares (SST)\n",
    "SST = sum((y - Y_bar) ** 2)\n",
    "\n",
    "# Model Sum of Squares (SSM)\n",
    "Y_hat = model_le.predict(X)\n",
    "SSM = sum((Y_hat - Y_bar) ** 2)\n",
    "\n",
    "# Residual Sum of Squares (SSR)\n",
    "SSR = SST - SSM\n",
    "\n",
    "# Derajat Kebebasan\n",
    "n = len(data)  # Jumlah observasi\n",
    "k = len(model_le.params)  # Jumlah variabel independen + 1 untuk intercept\n",
    "df_model = k - 1\n",
    "df_residual = n - k\n",
    "\n",
    "# Mean Squares\n",
    "MSM = SSM / df_model\n",
    "MSR = SSR / df_residual\n",
    "\n",
    "# F-statistic\n",
    "F_statistic = MSM / MSR\n",
    "\n",
    "# Tabel Sidik Ragam\n",
    "anova_table = pd.DataFrame({\n",
    "    'Sumber_Variasi': ['Model', 'Residual', 'Total'],\n",
    "    'SS': [SSM, SSR, SST],\n",
    "    'df': [df_model, df_residual, n - 1],\n",
    "    'MS': [MSM, MSR, None],\n",
    "    'F': [F_statistic, None, None]\n",
    "})\n",
    "\n",
    "# Menampilkan tabel ANOVA\n",
    "print(anova_table)"
   ]
  },
  {
   "cell_type": "markdown",
   "metadata": {},
   "source": [
    "## Uji Simultan"
   ]
  },
  {
   "cell_type": "markdown",
   "metadata": {},
   "source": [
    "$$\n",
    "H_0:\\beta_1=\\beta_2=\\beta_3=...=\\beta_k=0\n",
    "$$\n",
    "\n",
    "Semua peubah penjelas $x_1,x_2,...,x_k$ tidak berpengaruh linear terhadap peubah respon\n",
    "\n",
    "$$\n",
    "H_1:\\beta_j\\neq0{\\space}untuk{\\space}suatu{\\space}j,j=1,2,...,k\n",
    "$$\n",
    "\n",
    "Minimal terdapat satu peubah penjelas yang bepengaruh linear terhadap peubah respon"
   ]
  },
  {
   "cell_type": "code",
   "execution_count": 7,
   "metadata": {},
   "outputs": [
    {
     "name": "stdout",
     "output_type": "stream",
     "text": [
      "F-hitung lebih besar dari F-tabel. Tolak hipotesis nol.\n",
      "F-hitung: 28.16952695505592\n",
      "F-tabel: 2.5787391843115586\n"
     ]
    }
   ],
   "source": [
    "from scipy.stats import f\n",
    "\n",
    "# Tentukan tingkat signifikansi\n",
    "alpha = 0.05\n",
    "\n",
    "# Hitung nilai F-tabel\n",
    "F_tabel = f.ppf(1 - alpha, df_model, df_residual)\n",
    "\n",
    "# Bandingkan F-hitung dengan F-tabel\n",
    "if F_statistic > F_tabel:\n",
    "    print(\"F-hitung lebih besar dari F-tabel. Tolak hipotesis nol.\")\n",
    "else:\n",
    "    print(\"F-hitung tidak lebih besar dari F-tabel. Gagal menolak hipotesis nol.\")\n",
    "\n",
    "# Tampilkan hasil\n",
    "print(\"F-hitung:\", F_statistic)\n",
    "print(\"F-tabel:\", F_tabel)"
   ]
  },
  {
   "cell_type": "markdown",
   "metadata": {},
   "source": [
    "Ada bukti yang cukup untuk menyatakan bahwa setidaknya satu dari variabel independen dalam model regresi berkontribusi secara signifikan terhadap variabel dependen. Dengan kata lain, model regresi signifikan secara statistik."
   ]
  },
  {
   "cell_type": "markdown",
   "metadata": {},
   "source": [
    "## Uji Parsial"
   ]
  },
  {
   "cell_type": "markdown",
   "metadata": {},
   "source": [
    "$$\n",
    "H_0:\\beta_j=0\n",
    "$$\n",
    "\n",
    "Peubah penjelas $x_j$ tidak berpengaruh terhadap peubah respon\n",
    "\n",
    "$$\n",
    "H_1:\\beta_j\\neq0\n",
    "$$\n",
    "\n",
    "Peubah penjelas $x_j$ bepengaruh terhadap peubah respon, setelah peubah penjelas lainnya ada dalam model"
   ]
  },
  {
   "cell_type": "code",
   "execution_count": 8,
   "metadata": {},
   "outputs": [
    {
     "name": "stdout",
     "output_type": "stream",
     "text": [
      "t-hitung untuk koefisien Illiteracy tidak lebih besar dari t-tabel. Gagal menolak hipotesis nol.\n",
      "t-hitung: 0.5539, t-tabel: 2.0141\n",
      "\n",
      "t-hitung untuk koefisien Murder lebih besar dari t-tabel. Tolak hipotesis nol.\n",
      "t-hitung: 6.6391, t-tabel: 2.0141\n",
      "\n",
      "t-hitung untuk koefisien HS Grad lebih besar dari t-tabel. Tolak hipotesis nol.\n",
      "t-hitung: 2.5322, t-tabel: 2.0141\n",
      "\n",
      "t-hitung untuk koefisien Frost lebih besar dari t-tabel. Tolak hipotesis nol.\n",
      "t-hitung: 2.7153, t-tabel: 2.0141\n",
      "\n"
     ]
    }
   ],
   "source": [
    "from scipy import stats\n",
    "\n",
    "# Menentukan tingkat signifikansi\n",
    "alpha = 0.05\n",
    "\n",
    "# Menghitung t-hitung dan membandingkannya dengan t-tabel untuk setiap koefisien\n",
    "for i in range(1, len(model_le.params)):  # Mulai dari 1 untuk menghindari intercept\n",
    "    beta_hat = model_le.params.iloc[i]  # Koefisien\n",
    "    SE_beta_hat = model_le.bse.iloc[i]  # Standar error\n",
    "    \n",
    "    # Hitung t-hitung\n",
    "    t_hitung = abs(beta_hat / SE_beta_hat)\n",
    "    \n",
    "    # Hitung nilai t-tabel\n",
    "    t_tabel = stats.t.ppf(1 - alpha/2, df=model_le.df_resid)  # Dua sisi\n",
    "    \n",
    "    # Bandingkan t-hitung dengan t-tabel\n",
    "    if t_hitung > t_tabel:\n",
    "        print(f\"t-hitung untuk koefisien {model_le.params.index[i]} lebih besar dari t-tabel. Tolak hipotesis nol.\")\n",
    "    else:\n",
    "        print(f\"t-hitung untuk koefisien {model_le.params.index[i]} tidak lebih besar dari t-tabel. Gagal menolak hipotesis nol.\")\n",
    "    \n",
    "    # Tampilkan hasil\n",
    "    print(f\"t-hitung: {t_hitung:.4f}, t-tabel: {t_tabel:.4f}\\n\")"
   ]
  },
  {
   "cell_type": "markdown",
   "metadata": {},
   "source": [
    "Dapat disimpulkan bahwa peubah Murder, HS Grad, dan Frost memiliki pengaruh yang signifikan terhadap variabel dependen, sedangkan variabel Illiteracy tidak memiliki pengaruh yang signifikan."
   ]
  },
  {
   "cell_type": "markdown",
   "metadata": {},
   "source": [
    "# Ukuran Kebaikan Model"
   ]
  },
  {
   "cell_type": "markdown",
   "metadata": {},
   "source": [
    "## $R^2$"
   ]
  },
  {
   "cell_type": "markdown",
   "metadata": {},
   "source": [
    "Pada regresi linier berganda, $R=\\sqrt{R^2}$ disebut sebagai *multiple correlation coefficient*, mengukur hubungan antara peubah respon $y$ dengan satu set peubah penjelas $x_1,x_2,…,x_k$."
   ]
  },
  {
   "cell_type": "code",
   "execution_count": 9,
   "metadata": {},
   "outputs": [
    {
     "name": "stdout",
     "output_type": "stream",
     "text": [
      "R^2: 0.7146\n"
     ]
    }
   ],
   "source": [
    "# Menghitung R-squared\n",
    "R_sq = 1 - (SSR / SST)\n",
    "print(f\"R^2: {R_sq:.4f}\")"
   ]
  },
  {
   "cell_type": "markdown",
   "metadata": {},
   "source": [
    "$71\\%$ dari propori keragaman total peubah respon dapat dijelaskan oleh seluruh peubah penjelas."
   ]
  },
  {
   "cell_type": "markdown",
   "metadata": {},
   "source": [
    "## $Adj. R^2$"
   ]
  },
  {
   "cell_type": "markdown",
   "metadata": {},
   "source": [
    "$Adj. R^2$ terkadang digunakan untuk membandingkan beberapa model dengan banyak peubah penjelas berbeda, namun tidak dapat diinterpretasikan sebagai proporsi keragaman total dalam $y$ yang diterangkan oleh peubah predictor/penjelas."
   ]
  },
  {
   "cell_type": "code",
   "execution_count": 10,
   "metadata": {},
   "outputs": [
    {
     "name": "stdout",
     "output_type": "stream",
     "text": [
      "Adjusted R^2: 0.6822\n"
     ]
    }
   ],
   "source": [
    "# Menghitung Adjusted R-squared\n",
    "n = len(y)  # Jumlah observasi\n",
    "k = len(model_le.params)  # Jumlah koefisien (termasuk intercept)\n",
    "adj_R_sq = 1 - ((1 - R_sq) * (n - 1) / (n - k - 1))\n",
    "print(f\"Adjusted R^2: {adj_R_sq:.4f}\")"
   ]
  },
  {
   "cell_type": "markdown",
   "metadata": {},
   "source": [
    "$68.22\\%$ dari variasi dalam variabel dependen dapat dijelaskan oleh variabel independen, dengan mempertimbangkan jumlah variabel dalam model."
   ]
  },
  {
   "cell_type": "markdown",
   "metadata": {},
   "source": [
    "# Dugaan Keragaman Parameter"
   ]
  },
  {
   "cell_type": "markdown",
   "metadata": {},
   "source": [
    "Keragaman pada tiap dugaan parameter perlu dihitung guna menentukan selang kepercayaan dan pengujian signifikansi parameter itu sendiri. Secara umum, nilai ragam dugaan parameter $\\hat\\beta_j$ dapat dihitung melalui rumus berikut.\n",
    "\n",
    "$$\n",
    "Var(\\hat\\beta_j)=\\sigma^2C_{jj}\n",
    "$$\n",
    "\n",
    "dengan nilai matriks $C$ dapat diperoleh melalui rumus berikut.\n",
    "\n",
    "$$\n",
    "C=(X'X)^{-1}\n",
    "$$"
   ]
  },
  {
   "cell_type": "markdown",
   "metadata": {},
   "source": [
    "## Pembentukan Matriks $c_{ii}$"
   ]
  },
  {
   "cell_type": "markdown",
   "metadata": {},
   "source": [
    "Terlebih dahulu perlu dibentuk matriks $X$ seperti berikut."
   ]
  },
  {
   "cell_type": "code",
   "execution_count": 11,
   "metadata": {},
   "outputs": [
    {
     "data": {
      "image/png": "[encoded data removed]",
      "text/plain": [
       "<IPython.core.display.Image object>"
      ]
     },
     "metadata": {},
     "output_type": "display_data"
    }
   ],
   "source": [
    "from IPython.display import Image, display\n",
    "display(Image(\"C:/Users/faeri/OneDrive/Pictures/Screenshot/Screenshot 2025-02-24 222206.png\"))"
   ]
  },
  {
   "cell_type": "code",
   "execution_count": 12,
   "metadata": {},
   "outputs": [
    {
     "name": "stdout",
     "output_type": "stream",
     "text": [
      "                Intercept  Illiteracy  Murder  HS Grad  Frost\n",
      "rownames                                                     \n",
      "Alabama               1.0         2.1    15.1     41.3     20\n",
      "Alaska                1.0         1.5    11.3     66.7    152\n",
      "Arizona               1.0         1.8     7.8     58.1     15\n",
      "Arkansas              1.0         1.9    10.1     39.9     65\n",
      "California            1.0         1.1    10.3     62.6     20\n",
      "Colorado              1.0         0.7     6.8     63.9    166\n",
      "Connecticut           1.0         1.1     3.1     56.0    139\n",
      "Delaware              1.0         0.9     6.2     54.6    103\n",
      "Florida               1.0         1.3    10.7     52.6     11\n",
      "Georgia               1.0         2.0    13.9     40.6     60\n",
      "Hawaii                1.0         1.9     6.2     61.9      0\n",
      "Idaho                 1.0         0.6     5.3     59.5    126\n",
      "Illinois              1.0         0.9    10.3     52.6    127\n",
      "Indiana               1.0         0.7     7.1     52.9    122\n",
      "Iowa                  1.0         0.5     2.3     59.0    140\n",
      "Kansas                1.0         0.6     4.5     59.9    114\n",
      "Kentucky              1.0         1.6    10.6     38.5     95\n",
      "Louisiana             1.0         2.8    13.2     42.2     12\n",
      "Maine                 1.0         0.7     2.7     54.7    161\n",
      "Maryland              1.0         0.9     8.5     52.3    101\n",
      "Massachusetts         1.0         1.1     3.3     58.5    103\n",
      "Michigan              1.0         0.9    11.1     52.8    125\n",
      "Minnesota             1.0         0.6     2.3     57.6    160\n",
      "Mississippi           1.0         2.4    12.5     41.0     50\n",
      "Missouri              1.0         0.8     9.3     48.8    108\n",
      "Montana               1.0         0.6     5.0     59.2    155\n",
      "Nebraska              1.0         0.6     2.9     59.3    139\n",
      "Nevada                1.0         0.5    11.5     65.2    188\n",
      "New Hampshire         1.0         0.7     3.3     57.6    174\n",
      "New Jersey            1.0         1.1     5.2     52.5    115\n",
      "New Mexico            1.0         2.2     9.7     55.2    120\n",
      "New York              1.0         1.4    10.9     52.7     82\n",
      "North Carolina        1.0         1.8    11.1     38.5     80\n",
      "North Dakota          1.0         0.8     1.4     50.3    186\n",
      "Ohio                  1.0         0.8     7.4     53.2    124\n",
      "Oklahoma              1.0         1.1     6.4     51.6     82\n",
      "Oregon                1.0         0.6     4.2     60.0     44\n",
      "Pennsylvania          1.0         1.0     6.1     50.2    126\n",
      "Rhode Island          1.0         1.3     2.4     46.4    127\n",
      "South Carolina        1.0         2.3    11.6     37.8     65\n",
      "South Dakota          1.0         0.5     1.7     53.3    172\n",
      "Tennessee             1.0         1.7    11.0     41.8     70\n",
      "Texas                 1.0         2.2    12.2     47.4     35\n",
      "Utah                  1.0         0.6     4.5     67.3    137\n",
      "Vermont               1.0         0.6     5.5     57.1    168\n",
      "Virginia              1.0         1.4     9.5     47.8     85\n",
      "Washington            1.0         0.6     4.3     63.5     32\n",
      "West Virginia         1.0         1.4     6.7     41.6    100\n",
      "Wisconsin             1.0         0.7     3.0     54.5    149\n",
      "Wyoming               1.0         0.6     6.9     62.9    173\n"
     ]
    }
   ],
   "source": [
    "import numpy as np\n",
    "\n",
    "n = data.shape[0]\n",
    "x0 = np.ones(n)\n",
    "\n",
    "# Membuat DataFrame\n",
    "x = pd.DataFrame({\n",
    "    'Intercept': x0,\n",
    "    'Illiteracy': data['Illiteracy'],\n",
    "    'Murder': data['Murder'],\n",
    "    'HS Grad': data['HS Grad'],\n",
    "    'Frost': data['Frost']\n",
    "})\n",
    "print(x)"
   ]
  },
  {
   "cell_type": "code",
   "execution_count": 13,
   "metadata": {},
   "outputs": [
    {
     "name": "stdout",
     "output_type": "stream",
     "text": [
      "Dimensi matriks c: (50, 5)\n"
     ]
    }
   ],
   "source": [
    "p = x.shape[1]\n",
    "print(\"Dimensi matriks c:\", x.shape)"
   ]
  },
  {
   "cell_type": "markdown",
   "metadata": {},
   "source": [
    "Matriks $X$ yang terbentuk memiliki dimensi $50×5$ sebagai representasi dari jumlah amatan $(n=50)$ dan jumlah parameter yang ingin diduga $(p=5)$. Selanjutnya dilakukan perkalian matriks untuk mendapatkan matriks $C_{p×p}$."
   ]
  },
  {
   "cell_type": "code",
   "execution_count": 14,
   "metadata": {},
   "outputs": [
    {
     "name": "stdout",
     "output_type": "stream",
     "text": [
      "          0         1         2         3         4\n",
      "0  3.113753 -0.511080 -0.017516 -0.038033 -0.003319\n",
      "1 -0.511080  0.191936 -0.010513  0.005262  0.000810\n",
      "2 -0.017516 -0.010513  0.003022  0.000087  0.000028\n",
      "3 -0.038033  0.005262  0.000087  0.000563  0.000013\n",
      "4 -0.003319  0.000810  0.000028  0.000013  0.000014\n"
     ]
    }
   ],
   "source": [
    "x_matrix = x.values\n",
    "c = pd.DataFrame(np.linalg.inv(np.dot(x_matrix.T, x_matrix)))\n",
    "print(c)"
   ]
  },
  {
   "cell_type": "code",
   "execution_count": 15,
   "metadata": {},
   "outputs": [
    {
     "name": "stdout",
     "output_type": "stream",
     "text": [
      "Dimensi matriks c: (5, 5)\n"
     ]
    }
   ],
   "source": [
    "print(\"Dimensi matriks c:\", c.shape)"
   ]
  },
  {
   "cell_type": "markdown",
   "metadata": {},
   "source": [
    "## Selang Kepercayaan Parameter $\\beta_0$"
   ]
  },
  {
   "cell_type": "markdown",
   "metadata": {},
   "source": [
    "Sebelumnya, melalui fungsi `ols()`, kita sudah mendapatkan nilai dugaan parameter $\\beta_0$ dan $\\beta_1$ sebesar $71,52$ dan $-0,18$. Kedua nilai dapat kita definisikan sebagai berikut."
   ]
  },
  {
   "cell_type": "code",
   "execution_count": 16,
   "metadata": {},
   "outputs": [
    {
     "name": "stdout",
     "output_type": "stream",
     "text": [
      "Koefisien b0: 71.51995846872413\n",
      "Koefisien b1: -0.18160777545669143\n"
     ]
    }
   ],
   "source": [
    "b0 = model_le.params.iloc[0]  \n",
    "b1 = model_le.params.iloc[1]\n",
    "\n",
    "print(\"Koefisien b0:\", b0)\n",
    "print(\"Koefisien b1:\", b1)"
   ]
  },
  {
   "cell_type": "markdown",
   "metadata": {},
   "source": [
    "Selanjutnya kita dapat menghitung nilai galat baku dari dugaan parameter $\\beta_0$ tersebut dengan perhitungan sebagai berikut.\n",
    "\n",
    "$$\n",
    "s_{\\hat\\beta_0}=\\hat\\sigma\\sqrt{c_{00}}\n",
    "$$\n",
    "\n",
    "Kita dapat mengidentifikasi nilai $c_{00}$ pada indeks matriks `c[1,1]` dilanjut dengan melakukan perhitungan galat bakunya."
   ]
  },
  {
   "cell_type": "code",
   "execution_count": 17,
   "metadata": {},
   "outputs": [
    {
     "name": "stdout",
     "output_type": "stream",
     "text": [
      "c00: 3.1137532062147564\n"
     ]
    }
   ],
   "source": [
    "c = np.linalg.inv(X.T @ X)\n",
    "c00 = c[0,0]\n",
    "print(\"c00:\", c00)"
   ]
  },
  {
   "cell_type": "code",
   "execution_count": 18,
   "metadata": {},
   "outputs": [
    {
     "name": "stdout",
     "output_type": "stream",
     "text": [
      "se_b0: 1.3204930122799832\n"
     ]
    }
   ],
   "source": [
    "se_b0 = np.sqrt(KTG * c00)\n",
    "print(\"se_b0:\", se_b0)"
   ]
  },
  {
   "cell_type": "code",
   "execution_count": 19,
   "metadata": {},
   "outputs": [
    {
     "name": "stdout",
     "output_type": "stream",
     "text": [
      "Batas Bawah beta0: 68.86034901769753\n",
      "Batas Atas beta0: 74.17956791975072\n"
     ]
    }
   ],
   "source": [
    "# Menentukan tingkat signifikansi\n",
    "alpha = 0.05\n",
    "\n",
    "# Menghitung batas bawah dan batas atas untuk b0\n",
    "n = len(data)  # Jumlah observasi\n",
    "p = len(model_le.params)  # Jumlah parameter (koefisien)\n",
    "\n",
    "# Batas Bawah beta0\n",
    "bb_b0 = b0 - abs(stats.t.ppf(1 - alpha / 2, df=n - p)) * se_b0\n",
    "\n",
    "# Batas Atas beta0\n",
    "ba_b0 = b0 + abs(stats.t.ppf(1 - alpha / 2, df=n - p)) * se_b0\n",
    "\n",
    "# Menampilkan hasil\n",
    "print(f\"Batas Bawah beta0: {bb_b0}\")\n",
    "print(f\"Batas Atas beta0: {ba_b0}\")"
   ]
  },
  {
   "cell_type": "markdown",
   "metadata": {},
   "source": [
    "Dengan cara yang sama seperti yang kita lakukan ketika menghitung nilai selang kepercayaan dugaan parameter analisis regresi linear sederhana, kita dapati selang kepercayaan untuk $\\hat\\beta_0$ sebagai berikut.\n",
    "\n",
    "$$\n",
    "68,86<\\hat\\beta_0<74,18\n",
    "$$"
   ]
  },
  {
   "cell_type": "markdown",
   "metadata": {},
   "source": [
    "## Selang Kepercayaan Parameter $\\beta_1$"
   ]
  },
  {
   "cell_type": "markdown",
   "metadata": {},
   "source": [
    "Untuk menghitung dugaan galat baku dari duaan parameter $\\beta_1$, kita dapat menggunakan rumus berikut.\n",
    "\n",
    "$$\n",
    "s_{\\hat\\beta_1}=\\hat\\sigma\\sqrt{c_{11}}\n",
    "$$\n",
    "\n",
    "Kita dapat mengidentifikasi nilai $c_{11}$ pada indeks matriks `c[2,2]` dilanjut dengan melakukan perhitungan galat bakunya."
   ]
  },
  {
   "cell_type": "code",
   "execution_count": 20,
   "metadata": {},
   "outputs": [
    {
     "name": "stdout",
     "output_type": "stream",
     "text": [
      "c11: 0.1919356370914804\n"
     ]
    }
   ],
   "source": [
    "c = np.linalg.inv(X.T @ X)\n",
    "c11 = c[1,1]\n",
    "print(\"c11:\", c11)"
   ]
  },
  {
   "cell_type": "code",
   "execution_count": 21,
   "metadata": {},
   "outputs": [
    {
     "name": "stdout",
     "output_type": "stream",
     "text": [
      "se_b1: 0.32784745960771\n"
     ]
    }
   ],
   "source": [
    "se_b1 = np.sqrt(KTG * c11)\n",
    "print(\"se_b1:\", se_b1)"
   ]
  },
  {
   "cell_type": "code",
   "execution_count": 22,
   "metadata": {},
   "outputs": [
    {
     "name": "stdout",
     "output_type": "stream",
     "text": [
      "Batas Bawah beta0: -0.8419264548885566\n",
      "Batas Atas beta0: 0.47871090397517363\n"
     ]
    }
   ],
   "source": [
    "# Menentukan tingkat signifikansi\n",
    "alpha = 0.05\n",
    "\n",
    "# Menghitung batas bawah dan batas atas untuk b0\n",
    "n = len(data)  # Jumlah observasi\n",
    "p = len(model_le.params)  # Jumlah parameter (koefisien)\n",
    "\n",
    "# Batas Bawah beta0\n",
    "bb_b1 = b1 - abs(stats.t.ppf(1 - alpha / 2, df=n - p)) * se_b1\n",
    "\n",
    "# Batas Atas beta0\n",
    "ba_b1 = b1 + abs(stats.t.ppf(1 - alpha / 2, df=n - p)) * se_b1\n",
    "\n",
    "# Menampilkan hasil\n",
    "print(f\"Batas Bawah beta0: {bb_b1}\")\n",
    "print(f\"Batas Atas beta0: {ba_b1}\")"
   ]
  },
  {
   "cell_type": "markdown",
   "metadata": {},
   "source": [
    "Dengan demikian, kita dapat selang kepercayaan untuk $\\hat\\beta_1$ sebagai berikut.\n",
    "\n",
    "$$\n",
    "-0,84<\\hat\\beta_1<0,48\n",
    "$$\n",
    "\n",
    "Pada kasus selang kepercayaan untuk $\\hat\\beta_1$ di atas, didapati bahwa dugaan parameter berada dalam rentang yang mengandung nilai 0. Dengan demikian, dapat dimaknai bahwa diduga nilai parameter berada dalam rentang yang mengandung nilai 0. Dengan demikian, dapat dimaknai bahwa didgua nilai parameter $\\beta_1$ bernilai 0 atau tidak signifikan dalam taraf nyata $5\\%$. Hal ini juga terkonfirmasi dalam output fungsi `ols()` di atas yang menunjukkan bahwa dugaan parameter $\\hat\\beta_1$ tidak signifikan (p-value > $\\alpha=0.05$)."
   ]
  },
  {
   "cell_type": "markdown",
   "metadata": {},
   "source": [
    "# Penduga Keragaman dan Selang Kepercayaan Seluruh Parameter"
   ]
  },
  {
   "cell_type": "markdown",
   "metadata": {},
   "source": [
    "Untuk mempermudah pendugaan keragaman dan selang kepercayaan parameter, dapat dibentuk fungsi sebagai berikut."
   ]
  },
  {
   "cell_type": "code",
   "execution_count": 23,
   "metadata": {},
   "outputs": [],
   "source": [
    "def hitung_se_sk(model, n, p, c, ragam, alpha=0.05):\n",
    "    galat_baku = pd.DataFrame(columns=['parameter', 'galat_baku'])\n",
    "    selang_kepercayaan = pd.DataFrame(columns=['batas_bawah', 'parameter', 'batas_atas'])\n",
    "    \n",
    "    for i in range(len(model.params)):\n",
    "        b = model.params.iloc[i]  # Koefisien\n",
    "        c_ii = c[i, i]  # Varians dari koefisien\n",
    "        se_b = np.sqrt(ragam * c_ii)  # Standar error\n",
    "        \n",
    "        # Hitung batas bawah dan batas atas\n",
    "        bb_b = b - abs(stats.t.ppf(alpha / 2, df=n - p)) * se_b\n",
    "        ba_b = b + abs(stats.t.ppf(alpha / 2, df=n - p)) * se_b\n",
    "        \n",
    "        # Menyimpan hasil\n",
    "        galat_baku.loc[len(galat_baku)] = {'parameter': model.params.index[i], 'galat_baku': se_b}\n",
    "        selang_kepercayaan.loc[len(selang_kepercayaan)] = {'batas_bawah': bb_b, 'parameter': model.params.index[i], 'batas_atas': ba_b}\n",
    "    \n",
    "    return {'galat_baku': galat_baku, 'selang_kepercayaan': selang_kepercayaan}"
   ]
  },
  {
   "cell_type": "markdown",
   "metadata": {},
   "source": [
    "Fungsi di atas memberikan output berupa tabel nilai galat baku dan selang kepercayaan tiap dugaan parameter yang dapat diamati di bawah."
   ]
  },
  {
   "cell_type": "code",
   "execution_count": 24,
   "metadata": {},
   "outputs": [
    {
     "name": "stdout",
     "output_type": "stream",
     "text": [
      "Galat Baku:\n",
      "     parameter  galat_baku\n",
      "0       const    1.320493\n",
      "1  Illiteracy    0.327847\n",
      "2      Murder    0.041138\n",
      "3     HS Grad    0.017760\n",
      "4       Frost    0.002828\n"
     ]
    }
   ],
   "source": [
    "hasil = hitung_se_sk(model=model_le, n=n, p=p, c=c, ragam=KTG)\n",
    "\n",
    "# Menampilkan galat baku\n",
    "galat_baku = hasil['galat_baku']\n",
    "print(\"Galat Baku:\\n\", galat_baku)"
   ]
  },
  {
   "cell_type": "code",
   "execution_count": 25,
   "metadata": {},
   "outputs": [
    {
     "name": "stdout",
     "output_type": "stream",
     "text": [
      "\n",
      "Selang Kepercayaan:\n",
      "    batas_bawah   parameter  batas_atas\n",
      "0    68.860349       const   74.179568\n",
      "1    -0.841926  Illiteracy    0.478711\n",
      "2    -0.355974      Murder   -0.190262\n",
      "3     0.009200     HS Grad    0.080739\n",
      "4    -0.013374       Frost   -0.001983\n"
     ]
    }
   ],
   "source": [
    "# Menampilkan selang kepercayaan\n",
    "selang_kepercayaan = hasil['selang_kepercayaan']\n",
    "print(\"\\nSelang Kepercayaan:\\n\", selang_kepercayaan)"
   ]
  }
 ],
 "metadata": {
  "kernelspec": {
   "display_name": "Python 3",
   "language": "python",
   "name": "python3"
  },
  "language_info": {
   "codemirror_mode": {
    "name": "ipython",
    "version": 3
   },
   "file_extension": ".py",
   "mimetype": "text/x-python",
   "name": "python",
   "nbconvert_exporter": "python",
   "pygments_lexer": "ipython3",
   "version": "3.12.7"
  }
 },
 "nbformat": 4,
 "nbformat_minor": 2
}
